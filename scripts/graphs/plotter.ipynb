{
 "cells": [
  {
   "cell_type": "code",
   "execution_count": 1,
   "metadata": {},
   "outputs": [],
   "source": [
    "import numpy as np\n",
    "import matplotlib.pyplot as plt\n",
    "import json\n",
    "import os"
   ]
  },
  {
   "cell_type": "code",
   "execution_count": null,
   "metadata": {},
   "outputs": [],
   "source": [
    "paxos_expl = {\n",
    "    \"raw\": {}\n",
    "}\n",
    "\n",
    "paxos_algos = [\"BonusMaxRL\", \"NegReward\", \"Random\"]\n",
    "runs = range(3)\n",
    "paxos_result_folder = \"result_paxos_100k\"\n",
    "\n",
    "for r in runs:\n",
    "    for a in paxos_algos:\n",
    "        file = \"run_{}_{}-Part.json\".format(r, a)\n",
    "        with open()"
   ]
  }
 ],
 "metadata": {
  "kernelspec": {
   "display_name": "Python 3",
   "language": "python",
   "name": "python3"
  },
  "language_info": {
   "codemirror_mode": {
    "name": "ipython",
    "version": 3
   },
   "file_extension": ".py",
   "mimetype": "text/x-python",
   "name": "python",
   "nbconvert_exporter": "python",
   "pygments_lexer": "ipython3",
   "version": "3.9.2"
  }
 },
 "nbformat": 4,
 "nbformat_minor": 2
}
